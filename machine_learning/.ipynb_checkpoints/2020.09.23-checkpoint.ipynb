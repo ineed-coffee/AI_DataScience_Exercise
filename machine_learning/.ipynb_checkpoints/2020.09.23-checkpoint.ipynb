{
 "cells": [
  {
   "cell_type": "markdown",
   "metadata": {},
   "source": [
    "# [Kaggle Titanic 데이터셋](https://www.kaggle.com/c/titanic/data)\n",
    "- 각 컬럼 전처리 후 DT 모델 활용"
   ]
  },
  {
   "cell_type": "code",
   "execution_count": 1,
   "metadata": {},
   "outputs": [],
   "source": [
    "import pandas as pd\n",
    "import numpy as np\n",
    "filepath='D:/downloads/titanic/'"
   ]
  },
  {
   "cell_type": "code",
   "execution_count": 2,
   "metadata": {},
   "outputs": [],
   "source": [
    "train = pd.read_csv(filepath+'train.csv')\n",
    "test = pd.read_csv(filepath+'test.csv')\n",
    "train_test_data = [train,test]"
   ]
  },
  {
   "cell_type": "code",
   "execution_count": 3,
   "metadata": {},
   "outputs": [
    {
     "data": {
      "text/html": [
       "<div>\n",
       "<style scoped>\n",
       "    .dataframe tbody tr th:only-of-type {\n",
       "        vertical-align: middle;\n",
       "    }\n",
       "\n",
       "    .dataframe tbody tr th {\n",
       "        vertical-align: top;\n",
       "    }\n",
       "\n",
       "    .dataframe thead th {\n",
       "        text-align: right;\n",
       "    }\n",
       "</style>\n",
       "<table border=\"1\" class=\"dataframe\">\n",
       "  <thead>\n",
       "    <tr style=\"text-align: right;\">\n",
       "      <th></th>\n",
       "      <th>PassengerId</th>\n",
       "      <th>Survived</th>\n",
       "      <th>Pclass</th>\n",
       "      <th>Name</th>\n",
       "      <th>Sex</th>\n",
       "      <th>Age</th>\n",
       "      <th>SibSp</th>\n",
       "      <th>Parch</th>\n",
       "      <th>Ticket</th>\n",
       "      <th>Fare</th>\n",
       "      <th>Cabin</th>\n",
       "      <th>Embarked</th>\n",
       "    </tr>\n",
       "  </thead>\n",
       "  <tbody>\n",
       "    <tr>\n",
       "      <th>0</th>\n",
       "      <td>1</td>\n",
       "      <td>0</td>\n",
       "      <td>3</td>\n",
       "      <td>Braund, Mr. Owen Harris</td>\n",
       "      <td>male</td>\n",
       "      <td>22.0</td>\n",
       "      <td>1</td>\n",
       "      <td>0</td>\n",
       "      <td>A/5 21171</td>\n",
       "      <td>7.25</td>\n",
       "      <td>NaN</td>\n",
       "      <td>S</td>\n",
       "    </tr>\n",
       "  </tbody>\n",
       "</table>\n",
       "</div>"
      ],
      "text/plain": [
       "   PassengerId  Survived  Pclass                     Name   Sex   Age  SibSp  \\\n",
       "0            1         0       3  Braund, Mr. Owen Harris  male  22.0      1   \n",
       "\n",
       "   Parch     Ticket  Fare Cabin Embarked  \n",
       "0      0  A/5 21171  7.25   NaN        S  "
      ]
     },
     "execution_count": 3,
     "metadata": {},
     "output_type": "execute_result"
    }
   ],
   "source": [
    "train.head(1)"
   ]
  },
  {
   "cell_type": "markdown",
   "metadata": {},
   "source": [
    "__Title__"
   ]
  },
  {
   "cell_type": "code",
   "execution_count": 4,
   "metadata": {},
   "outputs": [
    {
     "data": {
      "text/plain": [
       "1    517\n",
       "2    185\n",
       "3    127\n",
       "4     40\n",
       "5     22\n",
       "Name: Title, dtype: int64"
      ]
     },
     "execution_count": 4,
     "metadata": {},
     "output_type": "execute_result"
    }
   ],
   "source": [
    "title_map = {\n",
    "            'Mr':1,\n",
    "            'Miss':2,\n",
    "            'Mrs':3,\n",
    "            'Master':4, \n",
    "}\n",
    "\n",
    "def match_title(tag):\n",
    "    try:\n",
    "        return title_map[tag]\n",
    "    except KeyError:\n",
    "        return 5\n",
    "\n",
    "for dataset in train_test_data:\n",
    "        dataset['Title'] = dataset.Name.str.extract('([A-Za-z]+)\\.')\n",
    "        dataset.Title.replace(['Mlle','Ms'],'Miss',inplace=True)\n",
    "        dataset.Title.replace(['Mme','Lady'],'Mrs',inplace=True)\n",
    "        dataset.Title.replace(['Countess','Capt','Col','Don','Dr','Jonkheer','Major','Rev','Sir'],'Other',inplace=True)\n",
    "        \n",
    "        dataset.Title = dataset.Title.map(match_title)\n",
    "\n",
    "train.Title.value_counts()"
   ]
  },
  {
   "cell_type": "markdown",
   "metadata": {},
   "source": [
    "__Sex__"
   ]
  },
  {
   "cell_type": "code",
   "execution_count": 5,
   "metadata": {},
   "outputs": [
    {
     "data": {
      "text/plain": [
       "0    577\n",
       "1    314\n",
       "Name: Sex, dtype: int64"
      ]
     },
     "execution_count": 5,
     "metadata": {},
     "output_type": "execute_result"
    }
   ],
   "source": [
    "for dataset in train_test_data:\n",
    "    dataset.Sex = dataset.Sex.map({'female':1,'male':0})\n",
    "train.Sex.value_counts()"
   ]
  },
  {
   "cell_type": "markdown",
   "metadata": {},
   "source": [
    "__Embarked__"
   ]
  },
  {
   "cell_type": "code",
   "execution_count": 6,
   "metadata": {},
   "outputs": [
    {
     "name": "stderr",
     "output_type": "stream",
     "text": [
      "<ipython-input-6-2cd194952d90>:8: SettingWithCopyWarning: \n",
      "A value is trying to be set on a copy of a slice from a DataFrame\n",
      "\n",
      "See the caveats in the documentation: https://pandas.pydata.org/pandas-docs/stable/user_guide/indexing.html#returning-a-view-versus-a-copy\n",
      "  dataset.Embarked[dataset.Embarked.isnull()]=rand\n"
     ]
    },
    {
     "data": {
      "text/plain": [
       "0    646\n",
       "1    168\n",
       "2     77\n",
       "Name: Embarked, dtype: int64"
      ]
     },
     "execution_count": 6,
     "metadata": {},
     "output_type": "execute_result"
    }
   ],
   "source": [
    "for dataset in train_test_data:\n",
    "    null_cnt = dataset.Embarked.isnull().sum()\n",
    "    rand = np.random.choice(dataset.Embarked.value_counts().index,\n",
    "                            size=null_cnt,\n",
    "                            replace=True,\n",
    "                            p=dataset.Embarked.value_counts(normalize=True))\n",
    "    \n",
    "    dataset.Embarked[dataset.Embarked.isnull()]=rand\n",
    "    dataset.Embarked = dataset.Embarked.map({'S':0,'C':1,'Q':2})\n",
    "\n",
    "train.Embarked.value_counts()"
   ]
  },
  {
   "cell_type": "markdown",
   "metadata": {},
   "source": [
    "__Fare__"
   ]
  },
  {
   "cell_type": "code",
   "execution_count": 7,
   "metadata": {},
   "outputs": [
    {
     "data": {
      "text/plain": [
       "1    224\n",
       "0    223\n",
       "3    222\n",
       "2    222\n",
       "Name: Fare, dtype: int64"
      ]
     },
     "execution_count": 7,
     "metadata": {},
     "output_type": "execute_result"
    }
   ],
   "source": [
    "for dataset in train_test_data:\n",
    "    dataset.Fare = dataset.Fare.fillna(dataset.Fare.median())\n",
    "    dataset.Fare = pd.qcut(dataset.Fare,4).values.codes\n",
    "\n",
    "train.Fare.value_counts()"
   ]
  },
  {
   "cell_type": "markdown",
   "metadata": {},
   "source": [
    "__IsAlone__"
   ]
  },
  {
   "cell_type": "code",
   "execution_count": 8,
   "metadata": {},
   "outputs": [
    {
     "data": {
      "text/plain": [
       "1    537\n",
       "0    354\n",
       "Name: IsAlone, dtype: int64"
      ]
     },
     "execution_count": 8,
     "metadata": {},
     "output_type": "execute_result"
    }
   ],
   "source": [
    "for dataset in train_test_data:\n",
    "    familysize = dataset.SibSp+dataset.Parch+1\n",
    "    dataset['IsAlone']=familysize.apply(lambda x : 0 if x>1 else 1)\n",
    "    \n",
    "train.IsAlone.value_counts()"
   ]
  },
  {
   "cell_type": "markdown",
   "metadata": {},
   "source": [
    "# 1. Age 열 전처리 개선 : 수업 때는 표준편차 범위 내 무작위 수 생성"
   ]
  },
  {
   "cell_type": "markdown",
   "metadata": {},
   "source": [
    "__Idea : 전체 데이터의 평균과 표준편차를 이용한 범위 대신 호칭(Title)별 신뢰범위를 설정하고 개별로 난수 생성하여 처리__"
   ]
  },
  {
   "cell_type": "code",
   "execution_count": 9,
   "metadata": {},
   "outputs": [],
   "source": [
    "def match_randint(idx):\n",
    "    global dataset,mas\n",
    "    title = dataset.iloc[idx]['Title']\n",
    "    return np.random.randint(mas.loc[title,'start'],mas.loc[title,'end'])\n",
    "\n",
    "for dataset in train_test_data:\n",
    "    mas = dataset.groupby(['Title'])['Age'].describe()[['mean','std']] # means and stds\n",
    "    mas['start'] = mas['mean']-mas['std']\n",
    "    mas['end'] = mas['mean']+mas['std']\n",
    "    fill_array = pd.Series([match_randint(x) for x in dataset[dataset.Age.isnull()].index])\n",
    "    dataset.Age = dataset.Age.fillna(fill_array)\n",
    "    "
   ]
  },
  {
   "cell_type": "code",
   "execution_count": 10,
   "metadata": {},
   "outputs": [
    {
     "data": {
      "text/html": [
       "<div>\n",
       "<style scoped>\n",
       "    .dataframe tbody tr th:only-of-type {\n",
       "        vertical-align: middle;\n",
       "    }\n",
       "\n",
       "    .dataframe tbody tr th {\n",
       "        vertical-align: top;\n",
       "    }\n",
       "\n",
       "    .dataframe thead th {\n",
       "        text-align: right;\n",
       "    }\n",
       "</style>\n",
       "<table border=\"1\" class=\"dataframe\">\n",
       "  <thead>\n",
       "    <tr style=\"text-align: right;\">\n",
       "      <th></th>\n",
       "      <th>mean</th>\n",
       "      <th>std</th>\n",
       "      <th>start</th>\n",
       "      <th>end</th>\n",
       "    </tr>\n",
       "    <tr>\n",
       "      <th>Title</th>\n",
       "      <th></th>\n",
       "      <th></th>\n",
       "      <th></th>\n",
       "      <th></th>\n",
       "    </tr>\n",
       "  </thead>\n",
       "  <tbody>\n",
       "    <tr>\n",
       "      <th>1</th>\n",
       "      <td>32.000000</td>\n",
       "      <td>11.804497</td>\n",
       "      <td>20.195503</td>\n",
       "      <td>43.804497</td>\n",
       "    </tr>\n",
       "    <tr>\n",
       "      <th>2</th>\n",
       "      <td>21.774844</td>\n",
       "      <td>10.457716</td>\n",
       "      <td>11.317128</td>\n",
       "      <td>32.232560</td>\n",
       "    </tr>\n",
       "    <tr>\n",
       "      <th>3</th>\n",
       "      <td>38.903226</td>\n",
       "      <td>15.034070</td>\n",
       "      <td>23.869156</td>\n",
       "      <td>53.937296</td>\n",
       "    </tr>\n",
       "    <tr>\n",
       "      <th>4</th>\n",
       "      <td>7.406471</td>\n",
       "      <td>4.672470</td>\n",
       "      <td>2.734001</td>\n",
       "      <td>12.078940</td>\n",
       "    </tr>\n",
       "    <tr>\n",
       "      <th>5</th>\n",
       "      <td>43.833333</td>\n",
       "      <td>8.953584</td>\n",
       "      <td>34.879749</td>\n",
       "      <td>52.786917</td>\n",
       "    </tr>\n",
       "  </tbody>\n",
       "</table>\n",
       "</div>"
      ],
      "text/plain": [
       "            mean        std      start        end\n",
       "Title                                            \n",
       "1      32.000000  11.804497  20.195503  43.804497\n",
       "2      21.774844  10.457716  11.317128  32.232560\n",
       "3      38.903226  15.034070  23.869156  53.937296\n",
       "4       7.406471   4.672470   2.734001  12.078940\n",
       "5      43.833333   8.953584  34.879749  52.786917"
      ]
     },
     "execution_count": 10,
     "metadata": {},
     "output_type": "execute_result"
    }
   ],
   "source": [
    "mas"
   ]
  },
  {
   "cell_type": "code",
   "execution_count": 11,
   "metadata": {},
   "outputs": [
    {
     "data": {
      "text/plain": [
       "0    1\n",
       "1    2\n",
       "2    1\n",
       "Name: Age, dtype: int8"
      ]
     },
     "execution_count": 11,
     "metadata": {},
     "output_type": "execute_result"
    }
   ],
   "source": [
    "for dataset in train_test_data:\n",
    "    dataset.Age = pd.cut(dataset.Age,5).values.codes\n",
    "    \n",
    "train.Age.head(3)"
   ]
  },
  {
   "cell_type": "markdown",
   "metadata": {},
   "source": [
    "__1까지만 적용한 모델 평가 (기존 87.2% -> 87.8%)__"
   ]
  },
  {
   "cell_type": "code",
   "execution_count": 12,
   "metadata": {},
   "outputs": [
    {
     "name": "stdout",
     "output_type": "stream",
     "text": [
      "File Saved\n",
      "Model Accuracy : 0.8787878787878788\n"
     ]
    }
   ],
   "source": [
    "from sklearn.tree import DecisionTreeClassifier\n",
    "\n",
    "features_drop=['Name','SibSp','Parch','Ticket','Cabin',]\n",
    "xTrain = train.drop(features_drop+['Survived','PassengerId'],axis=1)\n",
    "yLabel = train['Survived']\n",
    "xTest = test.drop(features_drop+['PassengerId'],axis=1)\n",
    "\n",
    "DT = DecisionTreeClassifier()\n",
    "model = DT.fit(xTrain,yLabel)\n",
    "prediction = model.predict(xTest)\n",
    "test['Survived']=prediction\n",
    "result = test[['PassengerId','Survived']]\n",
    "result.to_csv('advancedDT.csv',index=False)\n",
    "print('File Saved')\n",
    "print(f'Model Accuracy : {model.score(xTrain,yLabel)}')"
   ]
  },
  {
   "cell_type": "markdown",
   "metadata": {},
   "source": [
    "# 2. Cabin 열 전처리 "
   ]
  },
  {
   "cell_type": "markdown",
   "metadata": {},
   "source": [
    "### EDA"
   ]
  },
  {
   "cell_type": "markdown",
   "metadata": {},
   "source": [
    "- __`대구분 컬럼 추가 (ex. E54 -> E)`__"
   ]
  },
  {
   "cell_type": "code",
   "execution_count": 13,
   "metadata": {
    "scrolled": true
   },
   "outputs": [
    {
     "data": {
      "text/plain": [
       "0    NaN\n",
       "1      C\n",
       "2    NaN\n",
       "3      C\n",
       "Name: Cabin_category, dtype: object"
      ]
     },
     "execution_count": 13,
     "metadata": {},
     "output_type": "execute_result"
    }
   ],
   "source": [
    "train['Cabin_category'] = train.Cabin.dropna().str.extract('([A-Z])')\n",
    "test['Cabin_category'] = test.Cabin.dropna().str.extract('([A-Z])')\n",
    "train['Cabin_category'].head(4)"
   ]
  },
  {
   "cell_type": "markdown",
   "metadata": {},
   "source": [
    "- __`8가지 분류 (단, test 데이터에는 T 분류 항목은 없음)`__"
   ]
  },
  {
   "cell_type": "code",
   "execution_count": 14,
   "metadata": {},
   "outputs": [
    {
     "data": {
      "text/plain": [
       "array([nan, 'C', 'E', 'G', 'D', 'A', 'B', 'F', 'T'], dtype=object)"
      ]
     },
     "execution_count": 14,
     "metadata": {},
     "output_type": "execute_result"
    }
   ],
   "source": [
    "train.Cabin_category.unique()"
   ]
  },
  {
   "cell_type": "code",
   "execution_count": 15,
   "metadata": {},
   "outputs": [
    {
     "data": {
      "text/plain": [
       "array([nan, 'B', 'E', 'A', 'C', 'D', 'F', 'G'], dtype=object)"
      ]
     },
     "execution_count": 15,
     "metadata": {},
     "output_type": "execute_result"
    }
   ],
   "source": [
    "test.Cabin_category.unique()"
   ]
  },
  {
   "cell_type": "markdown",
   "metadata": {},
   "source": [
    "- __`각 분류 사이즈 확인`__\n",
    "    1. A,F 가 비교적 적다.\n",
    "    2. B~E 는 비교적 균등하다."
   ]
  },
  {
   "cell_type": "code",
   "execution_count": 16,
   "metadata": {},
   "outputs": [
    {
     "data": {
      "text/plain": [
       "Cabin_category\n",
       "A    15\n",
       "B    47\n",
       "C    59\n",
       "D    33\n",
       "E    32\n",
       "F    13\n",
       "G     4\n",
       "T     1\n",
       "dtype: int64"
      ]
     },
     "execution_count": 16,
     "metadata": {},
     "output_type": "execute_result"
    }
   ],
   "source": [
    "train.groupby(['Cabin_category']).size()"
   ]
  },
  {
   "cell_type": "markdown",
   "metadata": {},
   "source": [
    "- __`룸 타입에 따른 성비`__\n",
    "    1. A,F 는 비교적 여성 비율이 적다?\n",
    "    2. G,T 는 남/여 전용 캐빈?"
   ]
  },
  {
   "cell_type": "code",
   "execution_count": 17,
   "metadata": {},
   "outputs": [
    {
     "data": {
      "text/plain": [
       "Cabin_category  Sex\n",
       "A               0      0.933333\n",
       "                1      0.066667\n",
       "B               1      0.574468\n",
       "                0      0.425532\n",
       "C               0      0.542373\n",
       "                1      0.457627\n",
       "D               1      0.545455\n",
       "                0      0.454545\n",
       "E               0      0.531250\n",
       "                1      0.468750\n",
       "F               0      0.615385\n",
       "                1      0.384615\n",
       "G               1      1.000000\n",
       "T               0      1.000000\n",
       "Name: Sex, dtype: float64"
      ]
     },
     "execution_count": 17,
     "metadata": {},
     "output_type": "execute_result"
    }
   ],
   "source": [
    "train.groupby(['Cabin_category'])['Sex'].value_counts(normalize=True)"
   ]
  },
  {
   "cell_type": "markdown",
   "metadata": {},
   "source": [
    "- __`각 타입별 생존률`__\n",
    "    - 생존률이 다 높다.. 결측값이 워낙 많아 신뢰할만한 수치 없는듯"
   ]
  },
  {
   "cell_type": "code",
   "execution_count": 18,
   "metadata": {},
   "outputs": [
    {
     "data": {
      "text/plain": [
       "Cabin_category\n",
       "A    0.466667\n",
       "B    0.744681\n",
       "C    0.593220\n",
       "D    0.757576\n",
       "E    0.750000\n",
       "F    0.615385\n",
       "G    0.500000\n",
       "T    0.000000\n",
       "Name: Survived, dtype: float64"
      ]
     },
     "execution_count": 18,
     "metadata": {},
     "output_type": "execute_result"
    }
   ],
   "source": [
    "train.groupby(['Cabin_category'])['Survived'].mean()"
   ]
  },
  {
   "cell_type": "markdown",
   "metadata": {},
   "source": [
    "- __`각 타입별+성별 생존률`__\n",
    "    - 마찬가지로 별 소득은 없다. 이전과 동일하게 여성의 생존 비율이 월등이 높다는것은 알 수 있다."
   ]
  },
  {
   "cell_type": "code",
   "execution_count": 19,
   "metadata": {},
   "outputs": [
    {
     "data": {
      "text/plain": [
       "Cabin_category  Sex\n",
       "A               0      0.428571\n",
       "                1      1.000000\n",
       "B               0      0.400000\n",
       "                1      1.000000\n",
       "C               0      0.343750\n",
       "                1      0.888889\n",
       "D               0      0.466667\n",
       "                1      1.000000\n",
       "E               0      0.588235\n",
       "                1      0.933333\n",
       "F               0      0.375000\n",
       "                1      1.000000\n",
       "G               1      0.500000\n",
       "T               0      0.000000\n",
       "Name: Survived, dtype: float64"
      ]
     },
     "execution_count": 19,
     "metadata": {},
     "output_type": "execute_result"
    }
   ],
   "source": [
    "train.groupby(['Cabin_category','Sex'])['Survived'].mean()"
   ]
  },
  {
   "cell_type": "markdown",
   "metadata": {},
   "source": [
    "- __`각 타입별 Fare 분류 비율`__\n",
    "    - 많은 비용을 지불한 사람들이 각 방에 큰 부분을 차지."
   ]
  },
  {
   "cell_type": "code",
   "execution_count": 20,
   "metadata": {},
   "outputs": [
    {
     "data": {
      "text/html": [
       "<div>\n",
       "<style scoped>\n",
       "    .dataframe tbody tr th:only-of-type {\n",
       "        vertical-align: middle;\n",
       "    }\n",
       "\n",
       "    .dataframe tbody tr th {\n",
       "        vertical-align: top;\n",
       "    }\n",
       "\n",
       "    .dataframe thead th {\n",
       "        text-align: right;\n",
       "    }\n",
       "</style>\n",
       "<table border=\"1\" class=\"dataframe\">\n",
       "  <thead>\n",
       "    <tr style=\"text-align: right;\">\n",
       "      <th>Fare</th>\n",
       "      <th>0</th>\n",
       "      <th>1</th>\n",
       "      <th>2</th>\n",
       "      <th>3</th>\n",
       "    </tr>\n",
       "    <tr>\n",
       "      <th>Cabin_category</th>\n",
       "      <th></th>\n",
       "      <th></th>\n",
       "      <th></th>\n",
       "      <th></th>\n",
       "    </tr>\n",
       "  </thead>\n",
       "  <tbody>\n",
       "    <tr>\n",
       "      <th>A</th>\n",
       "      <td>0.066667</td>\n",
       "      <td>NaN</td>\n",
       "      <td>0.266667</td>\n",
       "      <td>0.666667</td>\n",
       "    </tr>\n",
       "    <tr>\n",
       "      <th>B</th>\n",
       "      <td>0.063830</td>\n",
       "      <td>NaN</td>\n",
       "      <td>0.106383</td>\n",
       "      <td>0.829787</td>\n",
       "    </tr>\n",
       "    <tr>\n",
       "      <th>C</th>\n",
       "      <td>NaN</td>\n",
       "      <td>NaN</td>\n",
       "      <td>0.220339</td>\n",
       "      <td>0.779661</td>\n",
       "    </tr>\n",
       "    <tr>\n",
       "      <th>D</th>\n",
       "      <td>NaN</td>\n",
       "      <td>0.121212</td>\n",
       "      <td>0.151515</td>\n",
       "      <td>0.727273</td>\n",
       "    </tr>\n",
       "    <tr>\n",
       "      <th>E</th>\n",
       "      <td>NaN</td>\n",
       "      <td>0.218750</td>\n",
       "      <td>0.250000</td>\n",
       "      <td>0.531250</td>\n",
       "    </tr>\n",
       "    <tr>\n",
       "      <th>F</th>\n",
       "      <td>0.307692</td>\n",
       "      <td>0.230769</td>\n",
       "      <td>0.307692</td>\n",
       "      <td>0.153846</td>\n",
       "    </tr>\n",
       "    <tr>\n",
       "      <th>G</th>\n",
       "      <td>NaN</td>\n",
       "      <td>0.500000</td>\n",
       "      <td>0.500000</td>\n",
       "      <td>NaN</td>\n",
       "    </tr>\n",
       "    <tr>\n",
       "      <th>T</th>\n",
       "      <td>NaN</td>\n",
       "      <td>NaN</td>\n",
       "      <td>NaN</td>\n",
       "      <td>1.000000</td>\n",
       "    </tr>\n",
       "  </tbody>\n",
       "</table>\n",
       "</div>"
      ],
      "text/plain": [
       "Fare                   0         1         2         3\n",
       "Cabin_category                                        \n",
       "A               0.066667       NaN  0.266667  0.666667\n",
       "B               0.063830       NaN  0.106383  0.829787\n",
       "C                    NaN       NaN  0.220339  0.779661\n",
       "D                    NaN  0.121212  0.151515  0.727273\n",
       "E                    NaN  0.218750  0.250000  0.531250\n",
       "F               0.307692  0.230769  0.307692  0.153846\n",
       "G                    NaN  0.500000  0.500000       NaN\n",
       "T                    NaN       NaN       NaN  1.000000"
      ]
     },
     "execution_count": 20,
     "metadata": {},
     "output_type": "execute_result"
    }
   ],
   "source": [
    "train.groupby(['Cabin_category'])['Fare'].value_counts(normalize=True).unstack()"
   ]
  },
  {
   "cell_type": "markdown",
   "metadata": {},
   "source": [
    "- __`대분류를 숫자 변환 , 상관계수 확인`__\n",
    "    - Pclass 와 Fare 두 피쳐와 가장 관계 있음"
   ]
  },
  {
   "cell_type": "code",
   "execution_count": 21,
   "metadata": {},
   "outputs": [],
   "source": [
    "cabin_map = {'A':1,'B':2,'C':3,'D':4,\n",
    "            'E':5,'F':6,'G':7,'T':8}\n",
    "\n",
    "train['Cabin_enc'] = train.Cabin_category.map(cabin_map)\n",
    "test['Cabin_enc'] = test.Cabin_category.map(cabin_map)"
   ]
  },
  {
   "cell_type": "code",
   "execution_count": 22,
   "metadata": {},
   "outputs": [
    {
     "data": {
      "text/html": [
       "<div>\n",
       "<style scoped>\n",
       "    .dataframe tbody tr th:only-of-type {\n",
       "        vertical-align: middle;\n",
       "    }\n",
       "\n",
       "    .dataframe tbody tr th {\n",
       "        vertical-align: top;\n",
       "    }\n",
       "\n",
       "    .dataframe thead th {\n",
       "        text-align: right;\n",
       "    }\n",
       "</style>\n",
       "<table border=\"1\" class=\"dataframe\">\n",
       "  <thead>\n",
       "    <tr style=\"text-align: right;\">\n",
       "      <th></th>\n",
       "      <th>Survived</th>\n",
       "      <th>Pclass</th>\n",
       "      <th>Sex</th>\n",
       "      <th>Age</th>\n",
       "      <th>SibSp</th>\n",
       "      <th>Parch</th>\n",
       "      <th>Fare</th>\n",
       "      <th>Embarked</th>\n",
       "      <th>Title</th>\n",
       "      <th>IsAlone</th>\n",
       "      <th>Cabin_enc</th>\n",
       "    </tr>\n",
       "  </thead>\n",
       "  <tbody>\n",
       "    <tr>\n",
       "      <th>Survived</th>\n",
       "      <td>1.000000</td>\n",
       "      <td>-0.338481</td>\n",
       "      <td>0.543351</td>\n",
       "      <td>0.028792</td>\n",
       "      <td>-0.035322</td>\n",
       "      <td>0.081629</td>\n",
       "      <td>0.299357</td>\n",
       "      <td>0.106811</td>\n",
       "      <td>0.406954</td>\n",
       "      <td>-0.203367</td>\n",
       "      <td>0.018825</td>\n",
       "    </tr>\n",
       "    <tr>\n",
       "      <th>Pclass</th>\n",
       "      <td>-0.338481</td>\n",
       "      <td>1.000000</td>\n",
       "      <td>-0.131900</td>\n",
       "      <td>-0.327433</td>\n",
       "      <td>0.083081</td>\n",
       "      <td>0.018443</td>\n",
       "      <td>-0.634271</td>\n",
       "      <td>0.045702</td>\n",
       "      <td>-0.171341</td>\n",
       "      <td>0.135207</td>\n",
       "      <td>0.598211</td>\n",
       "    </tr>\n",
       "    <tr>\n",
       "      <th>Sex</th>\n",
       "      <td>0.543351</td>\n",
       "      <td>-0.131900</td>\n",
       "      <td>1.000000</td>\n",
       "      <td>-0.027237</td>\n",
       "      <td>0.114631</td>\n",
       "      <td>0.245489</td>\n",
       "      <td>0.243613</td>\n",
       "      <td>0.116569</td>\n",
       "      <td>0.502181</td>\n",
       "      <td>-0.303646</td>\n",
       "      <td>0.079704</td>\n",
       "    </tr>\n",
       "    <tr>\n",
       "      <th>Age</th>\n",
       "      <td>0.028792</td>\n",
       "      <td>-0.327433</td>\n",
       "      <td>-0.027237</td>\n",
       "      <td>1.000000</td>\n",
       "      <td>-0.168004</td>\n",
       "      <td>-0.023880</td>\n",
       "      <td>0.150664</td>\n",
       "      <td>-0.211437</td>\n",
       "      <td>0.031388</td>\n",
       "      <td>0.005895</td>\n",
       "      <td>-0.070446</td>\n",
       "    </tr>\n",
       "    <tr>\n",
       "      <th>SibSp</th>\n",
       "      <td>-0.035322</td>\n",
       "      <td>0.083081</td>\n",
       "      <td>0.114631</td>\n",
       "      <td>-0.168004</td>\n",
       "      <td>1.000000</td>\n",
       "      <td>0.414838</td>\n",
       "      <td>0.393025</td>\n",
       "      <td>-0.059961</td>\n",
       "      <td>0.269982</td>\n",
       "      <td>-0.584471</td>\n",
       "      <td>0.035571</td>\n",
       "    </tr>\n",
       "    <tr>\n",
       "      <th>Parch</th>\n",
       "      <td>0.081629</td>\n",
       "      <td>0.018443</td>\n",
       "      <td>0.245489</td>\n",
       "      <td>-0.023880</td>\n",
       "      <td>0.414838</td>\n",
       "      <td>1.000000</td>\n",
       "      <td>0.393881</td>\n",
       "      <td>-0.078665</td>\n",
       "      <td>0.318353</td>\n",
       "      <td>-0.583398</td>\n",
       "      <td>0.023298</td>\n",
       "    </tr>\n",
       "    <tr>\n",
       "      <th>Fare</th>\n",
       "      <td>0.299357</td>\n",
       "      <td>-0.634271</td>\n",
       "      <td>0.243613</td>\n",
       "      <td>0.150664</td>\n",
       "      <td>0.393025</td>\n",
       "      <td>0.393881</td>\n",
       "      <td>1.000000</td>\n",
       "      <td>-0.098161</td>\n",
       "      <td>0.338509</td>\n",
       "      <td>-0.560279</td>\n",
       "      <td>-0.336375</td>\n",
       "    </tr>\n",
       "    <tr>\n",
       "      <th>Embarked</th>\n",
       "      <td>0.106811</td>\n",
       "      <td>0.045702</td>\n",
       "      <td>0.116569</td>\n",
       "      <td>-0.211437</td>\n",
       "      <td>-0.059961</td>\n",
       "      <td>-0.078665</td>\n",
       "      <td>-0.098161</td>\n",
       "      <td>1.000000</td>\n",
       "      <td>0.043418</td>\n",
       "      <td>0.017807</td>\n",
       "      <td>-0.191904</td>\n",
       "    </tr>\n",
       "    <tr>\n",
       "      <th>Title</th>\n",
       "      <td>0.406954</td>\n",
       "      <td>-0.171341</td>\n",
       "      <td>0.502181</td>\n",
       "      <td>0.031388</td>\n",
       "      <td>0.269982</td>\n",
       "      <td>0.318353</td>\n",
       "      <td>0.338509</td>\n",
       "      <td>0.043418</td>\n",
       "      <td>1.000000</td>\n",
       "      <td>-0.405083</td>\n",
       "      <td>-0.023089</td>\n",
       "    </tr>\n",
       "    <tr>\n",
       "      <th>IsAlone</th>\n",
       "      <td>-0.203367</td>\n",
       "      <td>0.135207</td>\n",
       "      <td>-0.303646</td>\n",
       "      <td>0.005895</td>\n",
       "      <td>-0.584471</td>\n",
       "      <td>-0.583398</td>\n",
       "      <td>-0.560279</td>\n",
       "      <td>0.017807</td>\n",
       "      <td>-0.405083</td>\n",
       "      <td>1.000000</td>\n",
       "      <td>-0.065847</td>\n",
       "    </tr>\n",
       "    <tr>\n",
       "      <th>Cabin_enc</th>\n",
       "      <td>0.018825</td>\n",
       "      <td>0.598211</td>\n",
       "      <td>0.079704</td>\n",
       "      <td>-0.070446</td>\n",
       "      <td>0.035571</td>\n",
       "      <td>0.023298</td>\n",
       "      <td>-0.336375</td>\n",
       "      <td>-0.191904</td>\n",
       "      <td>-0.023089</td>\n",
       "      <td>-0.065847</td>\n",
       "      <td>1.000000</td>\n",
       "    </tr>\n",
       "  </tbody>\n",
       "</table>\n",
       "</div>"
      ],
      "text/plain": [
       "           Survived    Pclass       Sex       Age     SibSp     Parch  \\\n",
       "Survived   1.000000 -0.338481  0.543351  0.028792 -0.035322  0.081629   \n",
       "Pclass    -0.338481  1.000000 -0.131900 -0.327433  0.083081  0.018443   \n",
       "Sex        0.543351 -0.131900  1.000000 -0.027237  0.114631  0.245489   \n",
       "Age        0.028792 -0.327433 -0.027237  1.000000 -0.168004 -0.023880   \n",
       "SibSp     -0.035322  0.083081  0.114631 -0.168004  1.000000  0.414838   \n",
       "Parch      0.081629  0.018443  0.245489 -0.023880  0.414838  1.000000   \n",
       "Fare       0.299357 -0.634271  0.243613  0.150664  0.393025  0.393881   \n",
       "Embarked   0.106811  0.045702  0.116569 -0.211437 -0.059961 -0.078665   \n",
       "Title      0.406954 -0.171341  0.502181  0.031388  0.269982  0.318353   \n",
       "IsAlone   -0.203367  0.135207 -0.303646  0.005895 -0.584471 -0.583398   \n",
       "Cabin_enc  0.018825  0.598211  0.079704 -0.070446  0.035571  0.023298   \n",
       "\n",
       "               Fare  Embarked     Title   IsAlone  Cabin_enc  \n",
       "Survived   0.299357  0.106811  0.406954 -0.203367   0.018825  \n",
       "Pclass    -0.634271  0.045702 -0.171341  0.135207   0.598211  \n",
       "Sex        0.243613  0.116569  0.502181 -0.303646   0.079704  \n",
       "Age        0.150664 -0.211437  0.031388  0.005895  -0.070446  \n",
       "SibSp      0.393025 -0.059961  0.269982 -0.584471   0.035571  \n",
       "Parch      0.393881 -0.078665  0.318353 -0.583398   0.023298  \n",
       "Fare       1.000000 -0.098161  0.338509 -0.560279  -0.336375  \n",
       "Embarked  -0.098161  1.000000  0.043418  0.017807  -0.191904  \n",
       "Title      0.338509  0.043418  1.000000 -0.405083  -0.023089  \n",
       "IsAlone   -0.560279  0.017807 -0.405083  1.000000  -0.065847  \n",
       "Cabin_enc -0.336375 -0.191904 -0.023089 -0.065847   1.000000  "
      ]
     },
     "execution_count": 22,
     "metadata": {},
     "output_type": "execute_result"
    }
   ],
   "source": [
    "train.drop(['PassengerId'],axis=1).corr()"
   ]
  },
  {
   "cell_type": "markdown",
   "metadata": {},
   "source": [
    "- __`Pclass,Fare 와 상관계수가 높은것을 확인했으니 이에 따른 Cabin분류 분포 확인`__\n",
    "    - 생존"
   ]
  },
  {
   "cell_type": "code",
   "execution_count": 23,
   "metadata": {},
   "outputs": [
    {
     "data": {
      "text/html": [
       "<div>\n",
       "<style scoped>\n",
       "    .dataframe tbody tr th:only-of-type {\n",
       "        vertical-align: middle;\n",
       "    }\n",
       "\n",
       "    .dataframe tbody tr th {\n",
       "        vertical-align: top;\n",
       "    }\n",
       "\n",
       "    .dataframe thead th {\n",
       "        text-align: right;\n",
       "    }\n",
       "</style>\n",
       "<table border=\"1\" class=\"dataframe\">\n",
       "  <thead>\n",
       "    <tr style=\"text-align: right;\">\n",
       "      <th></th>\n",
       "      <th>Cabin_category</th>\n",
       "      <th>A</th>\n",
       "      <th>B</th>\n",
       "      <th>C</th>\n",
       "      <th>D</th>\n",
       "      <th>E</th>\n",
       "      <th>F</th>\n",
       "      <th>G</th>\n",
       "      <th>T</th>\n",
       "    </tr>\n",
       "    <tr>\n",
       "      <th>Pclass</th>\n",
       "      <th>Fare</th>\n",
       "      <th></th>\n",
       "      <th></th>\n",
       "      <th></th>\n",
       "      <th></th>\n",
       "      <th></th>\n",
       "      <th></th>\n",
       "      <th></th>\n",
       "      <th></th>\n",
       "    </tr>\n",
       "  </thead>\n",
       "  <tbody>\n",
       "    <tr>\n",
       "      <th rowspan=\"3\" valign=\"top\">1</th>\n",
       "      <th>0</th>\n",
       "      <td>0.250000</td>\n",
       "      <td>0.750000</td>\n",
       "      <td>NaN</td>\n",
       "      <td>NaN</td>\n",
       "      <td>NaN</td>\n",
       "      <td>NaN</td>\n",
       "      <td>NaN</td>\n",
       "      <td>NaN</td>\n",
       "    </tr>\n",
       "    <tr>\n",
       "      <th>2</th>\n",
       "      <td>0.114286</td>\n",
       "      <td>0.142857</td>\n",
       "      <td>0.371429</td>\n",
       "      <td>0.142857</td>\n",
       "      <td>0.228571</td>\n",
       "      <td>NaN</td>\n",
       "      <td>NaN</td>\n",
       "      <td>NaN</td>\n",
       "    </tr>\n",
       "    <tr>\n",
       "      <th>3</th>\n",
       "      <td>0.072993</td>\n",
       "      <td>0.284672</td>\n",
       "      <td>0.335766</td>\n",
       "      <td>0.175182</td>\n",
       "      <td>0.124088</td>\n",
       "      <td>NaN</td>\n",
       "      <td>NaN</td>\n",
       "      <td>0.007299</td>\n",
       "    </tr>\n",
       "    <tr>\n",
       "      <th rowspan=\"3\" valign=\"top\">2</th>\n",
       "      <th>1</th>\n",
       "      <td>NaN</td>\n",
       "      <td>NaN</td>\n",
       "      <td>NaN</td>\n",
       "      <td>0.363636</td>\n",
       "      <td>0.363636</td>\n",
       "      <td>0.272727</td>\n",
       "      <td>NaN</td>\n",
       "      <td>NaN</td>\n",
       "    </tr>\n",
       "    <tr>\n",
       "      <th>2</th>\n",
       "      <td>NaN</td>\n",
       "      <td>NaN</td>\n",
       "      <td>NaN</td>\n",
       "      <td>NaN</td>\n",
       "      <td>NaN</td>\n",
       "      <td>1.000000</td>\n",
       "      <td>NaN</td>\n",
       "      <td>NaN</td>\n",
       "    </tr>\n",
       "    <tr>\n",
       "      <th>3</th>\n",
       "      <td>NaN</td>\n",
       "      <td>NaN</td>\n",
       "      <td>NaN</td>\n",
       "      <td>NaN</td>\n",
       "      <td>NaN</td>\n",
       "      <td>1.000000</td>\n",
       "      <td>NaN</td>\n",
       "      <td>NaN</td>\n",
       "    </tr>\n",
       "    <tr>\n",
       "      <th rowspan=\"3\" valign=\"top\">3</th>\n",
       "      <th>0</th>\n",
       "      <td>NaN</td>\n",
       "      <td>NaN</td>\n",
       "      <td>NaN</td>\n",
       "      <td>NaN</td>\n",
       "      <td>NaN</td>\n",
       "      <td>1.000000</td>\n",
       "      <td>NaN</td>\n",
       "      <td>NaN</td>\n",
       "    </tr>\n",
       "    <tr>\n",
       "      <th>1</th>\n",
       "      <td>NaN</td>\n",
       "      <td>NaN</td>\n",
       "      <td>NaN</td>\n",
       "      <td>NaN</td>\n",
       "      <td>0.600000</td>\n",
       "      <td>NaN</td>\n",
       "      <td>0.400000</td>\n",
       "      <td>NaN</td>\n",
       "    </tr>\n",
       "    <tr>\n",
       "      <th>2</th>\n",
       "      <td>NaN</td>\n",
       "      <td>NaN</td>\n",
       "      <td>NaN</td>\n",
       "      <td>NaN</td>\n",
       "      <td>NaN</td>\n",
       "      <td>0.333333</td>\n",
       "      <td>0.666667</td>\n",
       "      <td>NaN</td>\n",
       "    </tr>\n",
       "  </tbody>\n",
       "</table>\n",
       "</div>"
      ],
      "text/plain": [
       "Cabin_category         A         B         C         D         E         F  \\\n",
       "Pclass Fare                                                                  \n",
       "1      0        0.250000  0.750000       NaN       NaN       NaN       NaN   \n",
       "       2        0.114286  0.142857  0.371429  0.142857  0.228571       NaN   \n",
       "       3        0.072993  0.284672  0.335766  0.175182  0.124088       NaN   \n",
       "2      1             NaN       NaN       NaN  0.363636  0.363636  0.272727   \n",
       "       2             NaN       NaN       NaN       NaN       NaN  1.000000   \n",
       "       3             NaN       NaN       NaN       NaN       NaN  1.000000   \n",
       "3      0             NaN       NaN       NaN       NaN       NaN  1.000000   \n",
       "       1             NaN       NaN       NaN       NaN  0.600000       NaN   \n",
       "       2             NaN       NaN       NaN       NaN       NaN  0.333333   \n",
       "\n",
       "Cabin_category         G         T  \n",
       "Pclass Fare                         \n",
       "1      0             NaN       NaN  \n",
       "       2             NaN       NaN  \n",
       "       3             NaN  0.007299  \n",
       "2      1             NaN       NaN  \n",
       "       2             NaN       NaN  \n",
       "       3             NaN       NaN  \n",
       "3      0             NaN       NaN  \n",
       "       1        0.400000       NaN  \n",
       "       2        0.666667       NaN  "
      ]
     },
     "execution_count": 23,
     "metadata": {},
     "output_type": "execute_result"
    }
   ],
   "source": [
    "train.groupby(['Pclass','Fare'])['Cabin_category'].value_counts(normalize=True).unstack()"
   ]
  },
  {
   "cell_type": "markdown",
   "metadata": {},
   "source": [
    "### Preprocessing"
   ]
  },
  {
   "cell_type": "markdown",
   "metadata": {},
   "source": [
    "- __`Cabin 컬럼 결측값을 Pclass, Fare 분류에 따라 확률을 적용하여 np.random.choice`__"
   ]
  },
  {
   "cell_type": "code",
   "execution_count": 24,
   "metadata": {},
   "outputs": [
    {
     "data": {
      "text/html": [
       "<div>\n",
       "<style scoped>\n",
       "    .dataframe tbody tr th:only-of-type {\n",
       "        vertical-align: middle;\n",
       "    }\n",
       "\n",
       "    .dataframe tbody tr th {\n",
       "        vertical-align: top;\n",
       "    }\n",
       "\n",
       "    .dataframe thead th {\n",
       "        text-align: right;\n",
       "    }\n",
       "</style>\n",
       "<table border=\"1\" class=\"dataframe\">\n",
       "  <thead>\n",
       "    <tr style=\"text-align: right;\">\n",
       "      <th></th>\n",
       "      <th>PassengerId</th>\n",
       "      <th>Survived</th>\n",
       "      <th>Pclass</th>\n",
       "      <th>Name</th>\n",
       "      <th>Sex</th>\n",
       "      <th>Age</th>\n",
       "      <th>SibSp</th>\n",
       "      <th>Parch</th>\n",
       "      <th>Ticket</th>\n",
       "      <th>Fare</th>\n",
       "      <th>Cabin</th>\n",
       "      <th>Embarked</th>\n",
       "      <th>Title</th>\n",
       "      <th>IsAlone</th>\n",
       "      <th>Cabin_category</th>\n",
       "      <th>Cabin_enc</th>\n",
       "    </tr>\n",
       "  </thead>\n",
       "  <tbody>\n",
       "    <tr>\n",
       "      <th>0</th>\n",
       "      <td>1</td>\n",
       "      <td>0</td>\n",
       "      <td>3</td>\n",
       "      <td>Braund, Mr. Owen Harris</td>\n",
       "      <td>0</td>\n",
       "      <td>1</td>\n",
       "      <td>1</td>\n",
       "      <td>0</td>\n",
       "      <td>A/5 21171</td>\n",
       "      <td>0</td>\n",
       "      <td>NaN</td>\n",
       "      <td>0</td>\n",
       "      <td>1</td>\n",
       "      <td>0</td>\n",
       "      <td>F</td>\n",
       "      <td>NaN</td>\n",
       "    </tr>\n",
       "    <tr>\n",
       "      <th>1</th>\n",
       "      <td>2</td>\n",
       "      <td>1</td>\n",
       "      <td>1</td>\n",
       "      <td>Cumings, Mrs. John Bradley (Florence Briggs Th...</td>\n",
       "      <td>1</td>\n",
       "      <td>2</td>\n",
       "      <td>1</td>\n",
       "      <td>0</td>\n",
       "      <td>PC 17599</td>\n",
       "      <td>3</td>\n",
       "      <td>C85</td>\n",
       "      <td>1</td>\n",
       "      <td>3</td>\n",
       "      <td>0</td>\n",
       "      <td>C</td>\n",
       "      <td>3.0</td>\n",
       "    </tr>\n",
       "    <tr>\n",
       "      <th>2</th>\n",
       "      <td>3</td>\n",
       "      <td>1</td>\n",
       "      <td>3</td>\n",
       "      <td>Heikkinen, Miss. Laina</td>\n",
       "      <td>1</td>\n",
       "      <td>1</td>\n",
       "      <td>0</td>\n",
       "      <td>0</td>\n",
       "      <td>STON/O2. 3101282</td>\n",
       "      <td>1</td>\n",
       "      <td>NaN</td>\n",
       "      <td>0</td>\n",
       "      <td>2</td>\n",
       "      <td>1</td>\n",
       "      <td>E</td>\n",
       "      <td>NaN</td>\n",
       "    </tr>\n",
       "    <tr>\n",
       "      <th>3</th>\n",
       "      <td>4</td>\n",
       "      <td>1</td>\n",
       "      <td>1</td>\n",
       "      <td>Futrelle, Mrs. Jacques Heath (Lily May Peel)</td>\n",
       "      <td>1</td>\n",
       "      <td>2</td>\n",
       "      <td>1</td>\n",
       "      <td>0</td>\n",
       "      <td>113803</td>\n",
       "      <td>3</td>\n",
       "      <td>C123</td>\n",
       "      <td>0</td>\n",
       "      <td>3</td>\n",
       "      <td>0</td>\n",
       "      <td>C</td>\n",
       "      <td>3.0</td>\n",
       "    </tr>\n",
       "    <tr>\n",
       "      <th>4</th>\n",
       "      <td>5</td>\n",
       "      <td>0</td>\n",
       "      <td>3</td>\n",
       "      <td>Allen, Mr. William Henry</td>\n",
       "      <td>0</td>\n",
       "      <td>2</td>\n",
       "      <td>0</td>\n",
       "      <td>0</td>\n",
       "      <td>373450</td>\n",
       "      <td>1</td>\n",
       "      <td>NaN</td>\n",
       "      <td>0</td>\n",
       "      <td>1</td>\n",
       "      <td>1</td>\n",
       "      <td>E</td>\n",
       "      <td>NaN</td>\n",
       "    </tr>\n",
       "  </tbody>\n",
       "</table>\n",
       "</div>"
      ],
      "text/plain": [
       "   PassengerId  Survived  Pclass  \\\n",
       "0            1         0       3   \n",
       "1            2         1       1   \n",
       "2            3         1       3   \n",
       "3            4         1       1   \n",
       "4            5         0       3   \n",
       "\n",
       "                                                Name  Sex  Age  SibSp  Parch  \\\n",
       "0                            Braund, Mr. Owen Harris    0    1      1      0   \n",
       "1  Cumings, Mrs. John Bradley (Florence Briggs Th...    1    2      1      0   \n",
       "2                             Heikkinen, Miss. Laina    1    1      0      0   \n",
       "3       Futrelle, Mrs. Jacques Heath (Lily May Peel)    1    2      1      0   \n",
       "4                           Allen, Mr. William Henry    0    2      0      0   \n",
       "\n",
       "             Ticket  Fare Cabin  Embarked  Title  IsAlone Cabin_category  \\\n",
       "0         A/5 21171     0   NaN         0      1        0              F   \n",
       "1          PC 17599     3   C85         1      3        0              C   \n",
       "2  STON/O2. 3101282     1   NaN         0      2        1              E   \n",
       "3            113803     3  C123         0      3        0              C   \n",
       "4            373450     1   NaN         0      1        1              E   \n",
       "\n",
       "   Cabin_enc  \n",
       "0        NaN  \n",
       "1        3.0  \n",
       "2        NaN  \n",
       "3        3.0  \n",
       "4        NaN  "
      ]
     },
     "execution_count": 24,
     "metadata": {},
     "output_type": "execute_result"
    }
   ],
   "source": [
    "def match_cabin(row):\n",
    "    global cabin_df\n",
    "    \n",
    "    try:\n",
    "        return np.random.choice(cabin_df.columns.values,1,p=cabin_df.loc[row.Pclass,row.Fare].values).item()\n",
    "    except TypeError:\n",
    "        return np.random.choice(cabin_df.columns.values,1).item()\n",
    "\n",
    "for dataset in train_test_data:\n",
    "    cabin_df = dataset.groupby(['Pclass','Fare'])['Cabin_category'].value_counts(normalize=True).unstack().fillna(0)\n",
    "    null_set = dataset[dataset.Cabin.isnull()]\n",
    "    dataset.Cabin_category = dataset.Cabin_category.fillna(null_set.apply(match_cabin,axis=1))\n",
    "\n",
    "train.head(5)  # Cabin_category => NaN 값 채움"
   ]
  },
  {
   "cell_type": "markdown",
   "metadata": {},
   "source": [
    "- __`결측값을 예측하여 채운 Cabin_category 컬럼을 맵핑하여 Cabin 컬럼 업데이트`__"
   ]
  },
  {
   "cell_type": "code",
   "execution_count": 25,
   "metadata": {},
   "outputs": [
    {
     "data": {
      "text/plain": [
       "0    6\n",
       "1    3\n",
       "2    5\n",
       "3    3\n",
       "4    5\n",
       "Name: Cabin, dtype: int64"
      ]
     },
     "execution_count": 25,
     "metadata": {},
     "output_type": "execute_result"
    }
   ],
   "source": [
    "for dataset in train_test_data:\n",
    "    dataset.Cabin = dataset.Cabin_category.map(cabin_map)\n",
    "    \n",
    "train.Cabin.head(5)"
   ]
  },
  {
   "cell_type": "markdown",
   "metadata": {},
   "source": [
    "- __`2까지 적용한 모델 평가 (기존 87.8% -> 90.7%)`__"
   ]
  },
  {
   "cell_type": "code",
   "execution_count": 26,
   "metadata": {},
   "outputs": [
    {
     "name": "stdout",
     "output_type": "stream",
     "text": [
      "File Saved\n",
      "Model Accuracy : 0.9068462401795735\n"
     ]
    }
   ],
   "source": [
    "features_drop=['Name','SibSp','Parch','Ticket','PassengerId','Cabin_category','Cabin_enc']\n",
    "xTrain = train.drop(features_drop+['Survived'],axis=1)\n",
    "yLabel = train['Survived']\n",
    "xTest = test.drop(features_drop+['Survived'],axis=1)\n",
    "\n",
    "DT = DecisionTreeClassifier()\n",
    "model = DT.fit(xTrain,yLabel)\n",
    "prediction = model.predict(xTest)\n",
    "test['Survived']=prediction\n",
    "result = test[['PassengerId','Survived']]\n",
    "result.to_csv('advancedDT2.csv',index=False)\n",
    "print('File Saved')\n",
    "print(f'Model Accuracy : {model.score(xTrain,yLabel)}')"
   ]
  }
 ],
 "metadata": {
  "kernelspec": {
   "display_name": "Python 3",
   "language": "python",
   "name": "python3"
  },
  "language_info": {
   "codemirror_mode": {
    "name": "ipython",
    "version": 3
   },
   "file_extension": ".py",
   "mimetype": "text/x-python",
   "name": "python",
   "nbconvert_exporter": "python",
   "pygments_lexer": "ipython3",
   "version": "3.8.3"
  }
 },
 "nbformat": 4,
 "nbformat_minor": 4
}
