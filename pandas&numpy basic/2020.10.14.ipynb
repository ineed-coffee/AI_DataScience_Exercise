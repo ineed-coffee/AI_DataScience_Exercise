{
 "cells": [
  {
   "cell_type": "markdown",
   "metadata": {},
   "source": [
    "# e-ncs 평가 제출 파일"
   ]
  },
  {
   "cell_type": "code",
   "execution_count": 1,
   "metadata": {},
   "outputs": [],
   "source": [
    "import pandas as pd\n",
    "import numpy as np\n",
    "import matplotlib.pyplot as plt\n",
    "import seaborn as sns\n",
    "sns.set()"
   ]
  },
  {
   "cell_type": "markdown",
   "metadata": {},
   "source": [
    "### [빅데이터 분석을 위한 통계 이론]"
   ]
  },
  {
   "cell_type": "markdown",
   "metadata": {},
   "source": [
    "__1. 유클리디안 거리, 코사인 유사도 및 거리에 대해 설명하시오. (코드를 예로 들어서)__"
   ]
  },
  {
   "cell_type": "markdown",
   "metadata": {},
   "source": [
    "└유클리디안 거리란 두 벡터 사이 거리의 계산 방법 중 하나로,  \n",
    "- 각 차원 요소의 산술 차이값을 제곱하여 모든 차원에 대해 더한 값의 제곱근으로 계산한다.  \n",
    "- 값의 범위는 (-inf,inf) 이며 작은 값일 수록 두 벡터의 정보가 유사하다고 할 수 있다."
   ]
  },
  {
   "cell_type": "code",
   "execution_count": 4,
   "metadata": {},
   "outputs": [
    {
     "data": {
      "text/plain": [
       "93.68564457802486"
      ]
     },
     "execution_count": 4,
     "metadata": {},
     "output_type": "execute_result"
    }
   ],
   "source": [
    "# euclidean distance\n",
    "a = np.array([1,8,56,4,7,4,67]) # 7차원 벡터 a\n",
    "b = np.array([2,7,2,61,7,1,16]) # 7차원 벡터 a\n",
    "\n",
    "# euclid(a,b) = 93.68564457802486\n",
    "diff = a-b\n",
    "diff_square = np.square(diff)\n",
    "diff_square_sum = np.sum(diff_square)\n",
    "euclidean_distance = np.sqrt(diff_square_sum)\n",
    "euclidean_distance"
   ]
  },
  {
   "cell_type": "code",
   "execution_count": 7,
   "metadata": {},
   "outputs": [
    {
     "data": {
      "text/plain": [
       "93.68564457802486"
      ]
     },
     "execution_count": 7,
     "metadata": {},
     "output_type": "execute_result"
    }
   ],
   "source": [
    "# 만들어진 메소드를 활용하는 방법도 있다\n",
    "from scipy.spatial import distance\n",
    "distance.euclidean(a,b)"
   ]
  },
  {
   "cell_type": "markdown",
   "metadata": {},
   "source": [
    "└코사인 유사도란 두 벡터 사이 유사도를 계산하는 방법 중 하나로,  \n",
    "- 두 벡터의 내적값을 각 벡터의 norm으로 나누어 계산한다.  \n",
    "- 스케일이 다른 두 성격의 데이터도 각도가 고려되기 때문에 신뢰있는 값을 얻을 수 있다.  \n",
    "- [-1,1] 의 범위를 가지며, 절대값이 클수록 유사도가 높은 데이터라 분석할 수 있다.  \n",
    "- 코사인 거리란 1에서 코사인 유사도를 뺀 값으로 0에 가까운 수치일수록 두 데이터가 유사하다고 판단하는 수치이다."
   ]
  },
  {
   "cell_type": "code",
   "execution_count": 11,
   "metadata": {
    "scrolled": true
   },
   "outputs": [
    {
     "data": {
      "text/plain": [
       "0.2731852825325623"
      ]
     },
     "execution_count": 11,
     "metadata": {},
     "output_type": "execute_result"
    }
   ],
   "source": [
    "# cosine similarity\n",
    "a = np.array([1,8,56,4,7,4,67]) # 7차원 벡터 a\n",
    "b = np.array([2,7,2,61,7,1,16]) # 7차원 벡터 a\n",
    "\n",
    "# cosine_similarity(a,b) = 0.2731852825325623\n",
    "dot_ab = np.dot(a,b)\n",
    "a_norm = np.linalg.norm(a)\n",
    "b_norm = np.linalg.norm(b)\n",
    "cosine_similarity = dot_ab/(a_norm*b_norm)\n",
    "cosine_similarity"
   ]
  },
  {
   "cell_type": "code",
   "execution_count": 13,
   "metadata": {
    "scrolled": true
   },
   "outputs": [
    {
     "data": {
      "text/plain": [
       "array([[0.27318528]])"
      ]
     },
     "execution_count": 13,
     "metadata": {},
     "output_type": "execute_result"
    }
   ],
   "source": [
    "# 만들어진 메소드를 활용할 수도 있다.\n",
    "from sklearn.metrics.pairwise import cosine_similarity\n",
    "cosine_similarity(a.reshape(1,-1),b.reshape(1,-1))"
   ]
  },
  {
   "cell_type": "markdown",
   "metadata": {},
   "source": [
    "__2. 표준화와 정규화에 대해 정의하고, 수식에 대해 설명하시오(코드를 예로 들어서)__"
   ]
  },
  {
   "cell_type": "markdown",
   "metadata": {},
   "source": [
    "└표준화란 데이터의 스케일을 바꾸는 방법 중 하나로,  \n",
    "- 전체 데이터의 평균과 표준편차를 구하고  \n",
    "- 각 데이터를 `(데이터-평균)/표준편차` 로 맵핑하여 업데이트한다."
   ]
  },
  {
   "cell_type": "code",
   "execution_count": 17,
   "metadata": {},
   "outputs": [
    {
     "data": {
      "text/plain": [
       "array([-0.81604335, -0.53042818,  1.42807586, -0.69363685, -0.57123034,\n",
       "       -0.69363685,  1.8768997 ,  0.77524118, -0.77524118])"
      ]
     },
     "execution_count": 17,
     "metadata": {},
     "output_type": "execute_result"
    }
   ],
   "source": [
    "# standardize\n",
    "sample = np.array([1,8,56,4,7,4,67,40,2]) # 9 차원 벡터\n",
    "sample_mean = sample.mean()\n",
    "sample_std = sample.std()\n",
    "sample_standardized = (sample-sample_mean)/sample_std\n",
    "sample_standardized"
   ]
  },
  {
   "cell_type": "code",
   "execution_count": 20,
   "metadata": {},
   "outputs": [
    {
     "data": {
      "text/plain": [
       "array([[-0.81604335],\n",
       "       [-0.53042818],\n",
       "       [ 1.42807586],\n",
       "       [-0.69363685],\n",
       "       [-0.57123034],\n",
       "       [-0.69363685],\n",
       "       [ 1.8768997 ],\n",
       "       [ 0.77524118],\n",
       "       [-0.77524118]])"
      ]
     },
     "execution_count": 20,
     "metadata": {},
     "output_type": "execute_result"
    }
   ],
   "source": [
    "# 만들어진 메소드를 활용할 수도 있다.\n",
    "from sklearn.preprocessing import StandardScaler\n",
    "\n",
    "sample_standardized = StandardScaler().fit_transform(sample.reshape(-1,1))\n",
    "sample_standardized"
   ]
  },
  {
   "cell_type": "markdown",
   "metadata": {},
   "source": [
    "└정규화란 데이터의 스케일을 바꾸는 방법 중 하나로,  \n",
    "- 전체 데이터의 최소값과 최대값를 구하고  \n",
    "- 각 데이터를 `(데이터-최소값)/(최대값-최소값)` 로 맵핑하여 업데이트한다."
   ]
  },
  {
   "cell_type": "code",
   "execution_count": 21,
   "metadata": {},
   "outputs": [
    {
     "data": {
      "text/plain": [
       "array([ 1.        ,  0.89393939,  0.16666667,  0.95454545,  0.90909091,\n",
       "        0.95454545, -0.        ,  0.40909091,  0.98484848])"
      ]
     },
     "execution_count": 21,
     "metadata": {},
     "output_type": "execute_result"
    }
   ],
   "source": [
    "# normalize\n",
    "sample = np.array([1,8,56,4,7,4,67,40,2]) # 9 차원 벡터\n",
    "sample_min = sample.max()\n",
    "sample_max = sample.min()\n",
    "sample_normalized = (sample-sample_min)/(sample_max-sample_min)\n",
    "sample_normalized"
   ]
  },
  {
   "cell_type": "code",
   "execution_count": 22,
   "metadata": {},
   "outputs": [
    {
     "data": {
      "text/plain": [
       "array([[0.        ],\n",
       "       [0.10606061],\n",
       "       [0.83333333],\n",
       "       [0.04545455],\n",
       "       [0.09090909],\n",
       "       [0.04545455],\n",
       "       [1.        ],\n",
       "       [0.59090909],\n",
       "       [0.01515152]])"
      ]
     },
     "execution_count": 22,
     "metadata": {},
     "output_type": "execute_result"
    }
   ],
   "source": [
    "# 만들어진 메소드를 활용할 수도 있다.\n",
    "from sklearn.preprocessing import MinMaxScaler\n",
    "\n",
    "sample_normalized = MinMaxScaler().fit_transform(sample.reshape(-1,1))\n",
    "sample_normalized"
   ]
  },
  {
   "cell_type": "markdown",
   "metadata": {},
   "source": [
    "### [파이썬 분석 및 시각화 라이브러리]"
   ]
  },
  {
   "cell_type": "markdown",
   "metadata": {},
   "source": [
    "__1. 타이타닉 데이터에 대해 아래와 같은 작업을 수행하시오.__  \n",
    "\n",
    "\n",
    "1) Pclass를 원핫인코딩  \n",
    "2) Age를 이산화(5개 구간으로 나눔)  \n",
    "3) embarked를 원핫인코딩  "
   ]
  },
  {
   "cell_type": "code",
   "execution_count": 23,
   "metadata": {},
   "outputs": [],
   "source": [
    "data = pd.read_csv('C:/임시/titanic/train.csv')"
   ]
  },
  {
   "cell_type": "markdown",
   "metadata": {},
   "source": [
    "1) Pclass를 원핫인코딩  "
   ]
  },
  {
   "cell_type": "code",
   "execution_count": 24,
   "metadata": {},
   "outputs": [
    {
     "data": {
      "text/html": [
       "<div>\n",
       "<style scoped>\n",
       "    .dataframe tbody tr th:only-of-type {\n",
       "        vertical-align: middle;\n",
       "    }\n",
       "\n",
       "    .dataframe tbody tr th {\n",
       "        vertical-align: top;\n",
       "    }\n",
       "\n",
       "    .dataframe thead th {\n",
       "        text-align: right;\n",
       "    }\n",
       "</style>\n",
       "<table border=\"1\" class=\"dataframe\">\n",
       "  <thead>\n",
       "    <tr style=\"text-align: right;\">\n",
       "      <th></th>\n",
       "      <th>1.0</th>\n",
       "      <th>2.0</th>\n",
       "      <th>3.0</th>\n",
       "      <th>NaN</th>\n",
       "    </tr>\n",
       "  </thead>\n",
       "  <tbody>\n",
       "    <tr>\n",
       "      <th>0</th>\n",
       "      <td>0</td>\n",
       "      <td>0</td>\n",
       "      <td>1</td>\n",
       "      <td>0</td>\n",
       "    </tr>\n",
       "    <tr>\n",
       "      <th>1</th>\n",
       "      <td>1</td>\n",
       "      <td>0</td>\n",
       "      <td>0</td>\n",
       "      <td>0</td>\n",
       "    </tr>\n",
       "    <tr>\n",
       "      <th>2</th>\n",
       "      <td>0</td>\n",
       "      <td>0</td>\n",
       "      <td>1</td>\n",
       "      <td>0</td>\n",
       "    </tr>\n",
       "    <tr>\n",
       "      <th>3</th>\n",
       "      <td>1</td>\n",
       "      <td>0</td>\n",
       "      <td>0</td>\n",
       "      <td>0</td>\n",
       "    </tr>\n",
       "    <tr>\n",
       "      <th>4</th>\n",
       "      <td>0</td>\n",
       "      <td>0</td>\n",
       "      <td>1</td>\n",
       "      <td>0</td>\n",
       "    </tr>\n",
       "    <tr>\n",
       "      <th>...</th>\n",
       "      <td>...</td>\n",
       "      <td>...</td>\n",
       "      <td>...</td>\n",
       "      <td>...</td>\n",
       "    </tr>\n",
       "    <tr>\n",
       "      <th>886</th>\n",
       "      <td>0</td>\n",
       "      <td>1</td>\n",
       "      <td>0</td>\n",
       "      <td>0</td>\n",
       "    </tr>\n",
       "    <tr>\n",
       "      <th>887</th>\n",
       "      <td>1</td>\n",
       "      <td>0</td>\n",
       "      <td>0</td>\n",
       "      <td>0</td>\n",
       "    </tr>\n",
       "    <tr>\n",
       "      <th>888</th>\n",
       "      <td>0</td>\n",
       "      <td>0</td>\n",
       "      <td>1</td>\n",
       "      <td>0</td>\n",
       "    </tr>\n",
       "    <tr>\n",
       "      <th>889</th>\n",
       "      <td>1</td>\n",
       "      <td>0</td>\n",
       "      <td>0</td>\n",
       "      <td>0</td>\n",
       "    </tr>\n",
       "    <tr>\n",
       "      <th>890</th>\n",
       "      <td>0</td>\n",
       "      <td>0</td>\n",
       "      <td>1</td>\n",
       "      <td>0</td>\n",
       "    </tr>\n",
       "  </tbody>\n",
       "</table>\n",
       "<p>891 rows × 4 columns</p>\n",
       "</div>"
      ],
      "text/plain": [
       "     1.0  2.0  3.0  NaN\n",
       "0      0    0    1    0\n",
       "1      1    0    0    0\n",
       "2      0    0    1    0\n",
       "3      1    0    0    0\n",
       "4      0    0    1    0\n",
       "..   ...  ...  ...  ...\n",
       "886    0    1    0    0\n",
       "887    1    0    0    0\n",
       "888    0    0    1    0\n",
       "889    1    0    0    0\n",
       "890    0    0    1    0\n",
       "\n",
       "[891 rows x 4 columns]"
      ]
     },
     "execution_count": 24,
     "metadata": {},
     "output_type": "execute_result"
    }
   ],
   "source": [
    "pd.get_dummies(data.Pclass,dummy_na=True)"
   ]
  },
  {
   "cell_type": "markdown",
   "metadata": {},
   "source": [
    "2) Age를 이산화(5개 구간으로 나눔)  "
   ]
  },
  {
   "cell_type": "code",
   "execution_count": 25,
   "metadata": {},
   "outputs": [
    {
     "data": {
      "text/plain": [
       "0      (16.336, 32.252]\n",
       "1      (32.252, 48.168]\n",
       "2      (16.336, 32.252]\n",
       "3      (32.252, 48.168]\n",
       "4      (32.252, 48.168]\n",
       "             ...       \n",
       "886    (16.336, 32.252]\n",
       "887    (16.336, 32.252]\n",
       "888                 NaN\n",
       "889    (16.336, 32.252]\n",
       "890    (16.336, 32.252]\n",
       "Name: Age, Length: 891, dtype: category\n",
       "Categories (5, interval[float64]): [(0.34, 16.336] < (16.336, 32.252] < (32.252, 48.168] < (48.168, 64.084] < (64.084, 80.0]]"
      ]
     },
     "execution_count": 25,
     "metadata": {},
     "output_type": "execute_result"
    }
   ],
   "source": [
    "pd.cut(data.Age,bins=5)"
   ]
  },
  {
   "cell_type": "markdown",
   "metadata": {},
   "source": [
    "3) embarked를 원핫인코딩 "
   ]
  },
  {
   "cell_type": "code",
   "execution_count": 26,
   "metadata": {},
   "outputs": [
    {
     "data": {
      "text/html": [
       "<div>\n",
       "<style scoped>\n",
       "    .dataframe tbody tr th:only-of-type {\n",
       "        vertical-align: middle;\n",
       "    }\n",
       "\n",
       "    .dataframe tbody tr th {\n",
       "        vertical-align: top;\n",
       "    }\n",
       "\n",
       "    .dataframe thead th {\n",
       "        text-align: right;\n",
       "    }\n",
       "</style>\n",
       "<table border=\"1\" class=\"dataframe\">\n",
       "  <thead>\n",
       "    <tr style=\"text-align: right;\">\n",
       "      <th></th>\n",
       "      <th>C</th>\n",
       "      <th>Q</th>\n",
       "      <th>S</th>\n",
       "      <th>NaN</th>\n",
       "    </tr>\n",
       "  </thead>\n",
       "  <tbody>\n",
       "    <tr>\n",
       "      <th>0</th>\n",
       "      <td>0</td>\n",
       "      <td>0</td>\n",
       "      <td>1</td>\n",
       "      <td>0</td>\n",
       "    </tr>\n",
       "    <tr>\n",
       "      <th>1</th>\n",
       "      <td>1</td>\n",
       "      <td>0</td>\n",
       "      <td>0</td>\n",
       "      <td>0</td>\n",
       "    </tr>\n",
       "    <tr>\n",
       "      <th>2</th>\n",
       "      <td>0</td>\n",
       "      <td>0</td>\n",
       "      <td>1</td>\n",
       "      <td>0</td>\n",
       "    </tr>\n",
       "    <tr>\n",
       "      <th>3</th>\n",
       "      <td>0</td>\n",
       "      <td>0</td>\n",
       "      <td>1</td>\n",
       "      <td>0</td>\n",
       "    </tr>\n",
       "    <tr>\n",
       "      <th>4</th>\n",
       "      <td>0</td>\n",
       "      <td>0</td>\n",
       "      <td>1</td>\n",
       "      <td>0</td>\n",
       "    </tr>\n",
       "    <tr>\n",
       "      <th>...</th>\n",
       "      <td>...</td>\n",
       "      <td>...</td>\n",
       "      <td>...</td>\n",
       "      <td>...</td>\n",
       "    </tr>\n",
       "    <tr>\n",
       "      <th>886</th>\n",
       "      <td>0</td>\n",
       "      <td>0</td>\n",
       "      <td>1</td>\n",
       "      <td>0</td>\n",
       "    </tr>\n",
       "    <tr>\n",
       "      <th>887</th>\n",
       "      <td>0</td>\n",
       "      <td>0</td>\n",
       "      <td>1</td>\n",
       "      <td>0</td>\n",
       "    </tr>\n",
       "    <tr>\n",
       "      <th>888</th>\n",
       "      <td>0</td>\n",
       "      <td>0</td>\n",
       "      <td>1</td>\n",
       "      <td>0</td>\n",
       "    </tr>\n",
       "    <tr>\n",
       "      <th>889</th>\n",
       "      <td>1</td>\n",
       "      <td>0</td>\n",
       "      <td>0</td>\n",
       "      <td>0</td>\n",
       "    </tr>\n",
       "    <tr>\n",
       "      <th>890</th>\n",
       "      <td>0</td>\n",
       "      <td>1</td>\n",
       "      <td>0</td>\n",
       "      <td>0</td>\n",
       "    </tr>\n",
       "  </tbody>\n",
       "</table>\n",
       "<p>891 rows × 4 columns</p>\n",
       "</div>"
      ],
      "text/plain": [
       "     C  Q  S  NaN\n",
       "0    0  0  1    0\n",
       "1    1  0  0    0\n",
       "2    0  0  1    0\n",
       "3    0  0  1    0\n",
       "4    0  0  1    0\n",
       "..  .. .. ..  ...\n",
       "886  0  0  1    0\n",
       "887  0  0  1    0\n",
       "888  0  0  1    0\n",
       "889  1  0  0    0\n",
       "890  0  1  0    0\n",
       "\n",
       "[891 rows x 4 columns]"
      ]
     },
     "execution_count": 26,
     "metadata": {},
     "output_type": "execute_result"
    }
   ],
   "source": [
    "pd.get_dummies(data.Embarked,dummy_na=True)"
   ]
  },
  {
   "cell_type": "markdown",
   "metadata": {},
   "source": [
    "__2. bins = [5, 20, 30, 40, 60, 90]  \n",
    "labels = [\"미성년자\", \"청년\", \"중년\", \"장년\", \"노년\"]  \n",
    "타이타닉호 승객을 사망자와 생존자 그룹으로 나누고 각 그룹에 대해 '미성년자', '청년', '중년', '장년', '노년' 승객의 비율을 구한다. 각 그룹 별로 비율의 전체 합은 1이 되어야 한다.__"
   ]
  },
  {
   "cell_type": "code",
   "execution_count": 31,
   "metadata": {},
   "outputs": [
    {
     "data": {
      "text/html": [
       "<div>\n",
       "<style scoped>\n",
       "    .dataframe tbody tr th:only-of-type {\n",
       "        vertical-align: middle;\n",
       "    }\n",
       "\n",
       "    .dataframe tbody tr th {\n",
       "        vertical-align: top;\n",
       "    }\n",
       "\n",
       "    .dataframe thead th {\n",
       "        text-align: right;\n",
       "    }\n",
       "</style>\n",
       "<table border=\"1\" class=\"dataframe\">\n",
       "  <thead>\n",
       "    <tr style=\"text-align: right;\">\n",
       "      <th>Age_Label</th>\n",
       "      <th>노년</th>\n",
       "      <th>미성년자</th>\n",
       "      <th>장년</th>\n",
       "      <th>중년</th>\n",
       "      <th>청년</th>\n",
       "    </tr>\n",
       "    <tr>\n",
       "      <th>Survived</th>\n",
       "      <th></th>\n",
       "      <th></th>\n",
       "      <th></th>\n",
       "      <th></th>\n",
       "      <th></th>\n",
       "    </tr>\n",
       "  </thead>\n",
       "  <tbody>\n",
       "    <tr>\n",
       "      <th>0</th>\n",
       "      <td>0.041363</td>\n",
       "      <td>0.204380</td>\n",
       "      <td>0.189781</td>\n",
       "      <td>0.209246</td>\n",
       "      <td>0.355231</td>\n",
       "    </tr>\n",
       "    <tr>\n",
       "      <th>1</th>\n",
       "      <td>0.019305</td>\n",
       "      <td>0.196911</td>\n",
       "      <td>0.193050</td>\n",
       "      <td>0.266409</td>\n",
       "      <td>0.324324</td>\n",
       "    </tr>\n",
       "  </tbody>\n",
       "</table>\n",
       "</div>"
      ],
      "text/plain": [
       "Age_Label        노년      미성년자        장년        중년        청년\n",
       "Survived                                                   \n",
       "0          0.041363  0.204380  0.189781  0.209246  0.355231\n",
       "1          0.019305  0.196911  0.193050  0.266409  0.324324"
      ]
     },
     "execution_count": 31,
     "metadata": {},
     "output_type": "execute_result"
    }
   ],
   "source": [
    "bins = [5, 20, 30, 40, 60, 90]\n",
    "labels = [\"미성년자\", \"청년\", \"중년\", \"장년\", \"노년\"]\n",
    "data['Age_Label'] = pd.cut(data.Age,bins=bins,labels=labels)\n",
    "res = data.groupby(['Survived'])['Age_Label'].value_counts(normalize=True)\n",
    "res.unstack()"
   ]
  }
 ],
 "metadata": {
  "kernelspec": {
   "display_name": "Python 3",
   "language": "python",
   "name": "python3"
  },
  "language_info": {
   "codemirror_mode": {
    "name": "ipython",
    "version": 3
   },
   "file_extension": ".py",
   "mimetype": "text/x-python",
   "name": "python",
   "nbconvert_exporter": "python",
   "pygments_lexer": "ipython3",
   "version": "3.7.6"
  }
 },
 "nbformat": 4,
 "nbformat_minor": 4
}
