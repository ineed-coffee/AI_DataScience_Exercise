{
 "cells": [
  {
   "cell_type": "markdown",
   "metadata": {},
   "source": [
    "# N-gram 유사도 기초 실습  \n",
    "- 예제 문장 2개 사이의 2-gram , 3-gram , 4-gram 유사도 중 가장 높게 나오는 유사도 찾기  \n",
    "- 더 적은 분할 조각을 가진 문장을 기준으로 유사도 계산  \n",
    "***\n",
    "__sentence.1__ : 오늘 강남에서 맛있는 된장찌개를 먹었다.  \n",
    "__sentence.2__ : 강남에서 먹었던 오늘의 된장찌개는 맛있었다.  "
   ]
  },
  {
   "cell_type": "code",
   "execution_count": 1,
   "metadata": {},
   "outputs": [],
   "source": [
    "sentence1 = '오늘 강남에서 맛있는 된장찌개를 먹었다'\n",
    "sentence2 = '강남에서 먹었던 오늘의 된장찌개는 맛있었다'"
   ]
  },
  {
   "cell_type": "code",
   "execution_count": 2,
   "metadata": {},
   "outputs": [],
   "source": [
    "grams = [2,3,4]\n",
    "similarities = {}"
   ]
  },
  {
   "cell_type": "code",
   "execution_count": 5,
   "metadata": {},
   "outputs": [],
   "source": [
    "for n in grams:\n",
    "    set_from_1 = set([sentence1[i:i+n] for i in range(len(sentence1)-n+1)])\n",
    "    set_from_2 = set([sentence2[i:i+n] for i in range(len(sentence2)-n+1)])\n",
    "    div = min(len(set_from_1),len(set_from_2))\n",
    "    cnt = len(set_from_1&set_from_2)\n",
    "    similarities[str(n)+'gram'] = cnt/div"
   ]
  },
  {
   "cell_type": "code",
   "execution_count": 6,
   "metadata": {},
   "outputs": [
    {
     "data": {
      "text/plain": [
       "{'2gram': 0.75, '3gram': 0.42105263157894735, '4gram': 0.2222222222222222}"
      ]
     },
     "execution_count": 6,
     "metadata": {},
     "output_type": "execute_result"
    }
   ],
   "source": [
    "similarities"
   ]
  },
  {
   "cell_type": "markdown",
   "metadata": {},
   "source": [
    "### 결론 : bi-gram 이 가장 유사도가 높게 나온다."
   ]
  },
  {
   "cell_type": "markdown",
   "metadata": {},
   "source": [
    "으아아아아아아 플젝 "
   ]
  }
 ],
 "metadata": {
  "kernelspec": {
   "display_name": "Python 3",
   "language": "python",
   "name": "python3"
  },
  "language_info": {
   "codemirror_mode": {
    "name": "ipython",
    "version": 3
   },
   "file_extension": ".py",
   "mimetype": "text/x-python",
   "name": "python",
   "nbconvert_exporter": "python",
   "pygments_lexer": "ipython3",
   "version": "3.7.6"
  }
 },
 "nbformat": 4,
 "nbformat_minor": 4
}
